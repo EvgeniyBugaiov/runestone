{
 "cells": [
  {
   "cell_type": "code",
   "execution_count": 1,
   "id": "ec3c9c0c-4b7a-4a5a-9f20-88e429e2f70d",
   "metadata": {},
   "outputs": [],
   "source": [
    "def sum_of_list(arr: list) -> float:\n",
    "    if len(arr) == 1:\n",
    "        return arr[0]\n",
    "    else:\n",
    "        return arr[0] + sum_of_list(arr[1:])\n",
    "    \n",
    "assert sum_of_list([1, 2, 3]) == 6"
   ]
  },
  {
   "cell_type": "code",
   "execution_count": 5,
   "id": "d9a91cd2-fdf8-4103-bcdc-f3cb5130a556",
   "metadata": {},
   "outputs": [],
   "source": [
    "def convert_to_string(n: int, base: int) -> str:\n",
    "    convStr = '0123456789'\n",
    "    if n < base:\n",
    "        return convStr[n]\n",
    "    else:\n",
    "        return convert_to_string(n // base, base) + convStr[n % base]\n",
    "    \n",
    "assert convert_to_string(768, 10) == '768'"
   ]
  },
  {
   "cell_type": "code",
   "execution_count": 8,
   "id": "27aaba3e-4c2b-43e7-adcd-47022951d027",
   "metadata": {},
   "outputs": [],
   "source": [
    "def revert_str(string: str) -> str:\n",
    "    if len(string) == 1:\n",
    "        return string\n",
    "    else:\n",
    "        return revert_str(string[1:]) + string[0]\n",
    "    \n",
    "assert revert_str('hello') == 'olleh'"
   ]
  },
  {
   "cell_type": "code",
   "execution_count": 9,
   "id": "4c1aa648-57bf-487f-8cdb-3ba3cfd40362",
   "metadata": {},
   "outputs": [],
   "source": [
    "import turtle\n",
    "\n",
    "my_turtle = turtle.Turtle()\n",
    "my_win = turtle.Screen()\n",
    "\n",
    "def draw_spiral(my_turtle, line_len):\n",
    "    if line_len > 0:\n",
    "        my_turtle.forward(line_len)\n",
    "        my_turtle.right(90)\n",
    "        draw_spiral(my_turtle, line_len - 5)\n",
    "        \n",
    "draw_spiral(my_turtle, 100)\n",
    "my_win.exitonclick()"
   ]
  },
  {
   "cell_type": "code",
   "execution_count": 2,
   "id": "c7df612c-630b-45d0-ab54-64420fafc4f2",
   "metadata": {},
   "outputs": [],
   "source": [
    "import turtle\n",
    "\n",
    "def tree(branchLen,t):\n",
    "    if branchLen > 5:\n",
    "        t.forward(branchLen)\n",
    "        t.right(20)\n",
    "        tree(branchLen-15,t)\n",
    "        t.left(40)\n",
    "        tree(branchLen-15,t)\n",
    "        t.right(20)\n",
    "        t.backward(branchLen)\n",
    "\n",
    "def main():\n",
    "    t = turtle.Turtle()\n",
    "    myWin = turtle.Screen()\n",
    "    t.left(90)\n",
    "    t.up()\n",
    "    t.backward(100)\n",
    "    t.down()\n",
    "    t.color(\"green\")\n",
    "    tree(75,t)\n",
    "    myWin.exitonclick()\n",
    "\n",
    "main()"
   ]
  },
  {
   "cell_type": "code",
   "execution_count": null,
   "id": "9a38ff72-bdcd-4ef6-a800-d9dd05870cc0",
   "metadata": {},
   "outputs": [],
   "source": [
    "import turtle\n",
    "\n",
    "def drawTriangle(points,color,myTurtle):\n",
    "    myTurtle.fillcolor(color)\n",
    "    myTurtle.up()\n",
    "    myTurtle.goto(points[0][0],points[0][1])\n",
    "    myTurtle.down()\n",
    "    myTurtle.begin_fill()\n",
    "    myTurtle.goto(points[1][0],points[1][1])\n",
    "    myTurtle.goto(points[2][0],points[2][1])\n",
    "    myTurtle.goto(points[0][0],points[0][1])\n",
    "    myTurtle.end_fill()\n",
    "\n",
    "def getMid(p1,p2):\n",
    "    return ( (p1[0]+p2[0]) / 2, (p1[1] + p2[1]) / 2)\n",
    "\n",
    "def sierpinski(points,degree,myTurtle):\n",
    "    colormap = ['blue','red','green','white','yellow',\n",
    "                'violet','orange']\n",
    "    drawTriangle(points,colormap[degree],myTurtle)\n",
    "    if degree > 0:\n",
    "        sierpinski([points[0],\n",
    "                        getMid(points[0], points[1]),\n",
    "                        getMid(points[0], points[2])],\n",
    "                   degree-1, myTurtle)\n",
    "        sierpinski([points[1],\n",
    "                        getMid(points[0], points[1]),\n",
    "                        getMid(points[1], points[2])],\n",
    "                   degree-1, myTurtle)\n",
    "        sierpinski([points[2],\n",
    "                        getMid(points[2], points[1]),\n",
    "                        getMid(points[0], points[2])],\n",
    "                   degree-1, myTurtle)\n",
    "\n",
    "def main():\n",
    "   myTurtle = turtle.Turtle()\n",
    "   myWin = turtle.Screen()\n",
    "   myPoints = [[-100,-50],[0,100],[100,-50]]\n",
    "   sierpinski(myPoints,3,myTurtle)\n",
    "   myWin.exitonclick()\n",
    "\n",
    "main()"
   ]
  },
  {
   "cell_type": "code",
   "execution_count": 1,
   "id": "23e5b36b-d6fd-473f-b78f-dc803059a1d1",
   "metadata": {},
   "outputs": [
    {
     "name": "stdout",
     "output_type": "stream",
     "text": [
      "move disk from: A to: B\n",
      "move disk from: A to: C\n",
      "move disk from: B to: C\n",
      "move disk from: A to: B\n",
      "move disk from: C to: A\n",
      "move disk from: C to: B\n",
      "move disk from: A to: B\n"
     ]
    }
   ],
   "source": [
    "# Tower of Hanoi\n",
    "def move_disk(move_from, move_to):\n",
    "    print(f'move disk from: {move_from} to: {move_to}')\n",
    "    \n",
    "def move_tower(height, from_pole, to_pole, with_pole):\n",
    "    if height >= 1:\n",
    "        move_tower(height - 1, from_pole, with_pole, to_pole)\n",
    "        move_disk(from_pole, to_pole)\n",
    "        move_tower(height - 1, with_pole, to_pole, from_pole)\n",
    "        \n",
    "move_tower(3, 'A', 'B', 'C')"
   ]
  },
  {
   "cell_type": "code",
   "execution_count": 2,
   "id": "c93d9bcb-0352-4133-bbc2-363934c2041c",
   "metadata": {},
   "outputs": [
    {
     "data": {
      "text/plain": [
       "2"
      ]
     },
     "execution_count": 2,
     "metadata": {},
     "output_type": "execute_result"
    }
   ],
   "source": [
    "def recMC(coinValueList, change):\n",
    "    minCoins = change\n",
    "    if change in coinValueList:\n",
    "        return 1\n",
    "    else:\n",
    "        for i in [c for c in coinValueList if c <= change]:\n",
    "            numCoins = 1 + recMC(coinValueList, change - i)\n",
    "            if numCoins < minCoins:\n",
    "                minCoins = numCoins\n",
    "    return minCoins\n",
    "\n",
    "recMC([1, 2, 5, 10, 25], 26)"
   ]
  }
 ],
 "metadata": {
  "kernelspec": {
   "display_name": "Python 3 (ipykernel)",
   "language": "python",
   "name": "python3"
  },
  "language_info": {
   "codemirror_mode": {
    "name": "ipython",
    "version": 3
   },
   "file_extension": ".py",
   "mimetype": "text/x-python",
   "name": "python",
   "nbconvert_exporter": "python",
   "pygments_lexer": "ipython3",
   "version": "3.10.3"
  }
 },
 "nbformat": 4,
 "nbformat_minor": 5
}
