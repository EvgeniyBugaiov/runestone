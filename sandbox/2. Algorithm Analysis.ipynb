{
 "cells": [
  {
   "cell_type": "code",
   "execution_count": 1,
   "id": "876ecc75-9724-4fb8-a06c-9167ae01c8f2",
   "metadata": {},
   "outputs": [],
   "source": [
    "def search_min(arr: list) -> int:\n",
    "    res_min = arr[0]\n",
    "    for i in range(1, len(arr)):\n",
    "        if arr[i] < res_min:\n",
    "            res_min = arr[i]\n",
    "    return res_min"
   ]
  },
  {
   "cell_type": "code",
   "execution_count": 2,
   "id": "6ce24aef-5fe8-48e9-aafa-cddbb1dff423",
   "metadata": {},
   "outputs": [],
   "source": [
    "assert search_min([4, 3, 4, 2, 1, -1]) == -1"
   ]
  },
  {
   "cell_type": "code",
   "execution_count": 3,
   "id": "48a2e3ac-72b8-4841-9dbc-2d5f8ca73856",
   "metadata": {},
   "outputs": [],
   "source": [
    "def search_min(arr: list) -> int:\n",
    "    # in two cycle\n",
    "    pass"
   ]
  },
  {
   "cell_type": "code",
   "execution_count": 2,
   "id": "c1bfad7f-eff2-4a65-afd1-ab5f98c16144",
   "metadata": {},
   "outputs": [],
   "source": [
    "assert search_min([4, 3, 4, 2, 1, -1]) == -1"
   ]
  },
  {
   "cell_type": "code",
   "execution_count": 15,
   "id": "e8aff703-135c-4406-82d6-6659af975ab4",
   "metadata": {},
   "outputs": [],
   "source": [
    "from collections import Counter\n",
    "\n",
    "def anagram(s1: str, s2: str) -> bool:\n",
    "    # count how many characters in these strings\n",
    "    first = Counter(s1)\n",
    "    second = Counter(s2)\n",
    "    return first == second"
   ]
  },
  {
   "cell_type": "code",
   "execution_count": 34,
   "id": "f64b30b1-1f82-4bbb-b188-8fa7f41317b6",
   "metadata": {},
   "outputs": [],
   "source": [
    "def anagram(s1: str, s2: str) -> bool:\n",
    "    c1 = [0] * 26\n",
    "    c2 = [0] * 26\n",
    "    \n",
    "    for i in range(len(s1)):\n",
    "        idx1 = ord(s1[i]) - ord('a')\n",
    "        c1[idx1] += 1\n",
    "        \n",
    "    for j in range(len(s2)):\n",
    "        idx2 = ord(s2[j]) - ord('a')\n",
    "        c2[idx2] += 1\n",
    "    return c1 == c2"
   ]
  },
  {
   "cell_type": "code",
   "execution_count": 35,
   "id": "6def29fd-70a5-4863-bceb-1e00e5932c85",
   "metadata": {},
   "outputs": [],
   "source": [
    "assert anagram('abc', 'cba') == True"
   ]
  }
 ],
 "metadata": {
  "kernelspec": {
   "display_name": "Python 3 (ipykernel)",
   "language": "python",
   "name": "python3"
  },
  "language_info": {
   "codemirror_mode": {
    "name": "ipython",
    "version": 3
   },
   "file_extension": ".py",
   "mimetype": "text/x-python",
   "name": "python",
   "nbconvert_exporter": "python",
   "pygments_lexer": "ipython3",
   "version": "3.10.2"
  }
 },
 "nbformat": 4,
 "nbformat_minor": 5
}
