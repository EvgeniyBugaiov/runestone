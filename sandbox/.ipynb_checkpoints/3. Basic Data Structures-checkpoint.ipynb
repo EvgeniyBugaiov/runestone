{
 "cells": [
  {
   "cell_type": "code",
   "execution_count": 1,
   "id": "7dddd947-1bdf-483c-b3b2-656fb7417756",
   "metadata": {},
   "outputs": [],
   "source": [
    "class Stack:\n",
    "    def __init__(self):\n",
    "        self.items = []\n",
    "        \n",
    "    def is_empty(self):\n",
    "        return self.items == []\n",
    "    \n",
    "    def size(self):\n",
    "        return len(self.items)\n",
    "    \n",
    "    def peek(self):\n",
    "        return self.items[-1]\n",
    "    \n",
    "    def push(self, item):\n",
    "        self.items.append(item)\n",
    "        \n",
    "    def pop(self):\n",
    "        return self.items.pop()"
   ]
  },
  {
   "cell_type": "code",
   "execution_count": 3,
   "id": "4ba200cb-3641-4901-932c-a29ce812c61f",
   "metadata": {},
   "outputs": [],
   "source": [
    "def is_pair(opened: str, closed: str) -> bool:\n",
    "    o = ['(', '{', '[']\n",
    "    c = [')', '}', ']']\n",
    "    return o.index(opened) == c.index(closed)\n",
    "\n",
    "def par_checker(symbols_str: str) -> bool:\n",
    "    s = Stack()\n",
    "    for ch in symbols_str:\n",
    "        if ch in '({[':\n",
    "            s.push(ch)\n",
    "        else:\n",
    "            if not is_pair(s.pop(), ch):\n",
    "                return False\n",
    "    return s.is_empty()"
   ]
  },
  {
   "cell_type": "code",
   "execution_count": 4,
   "id": "40604164-cf23-4be1-abd4-b52f724fe81f",
   "metadata": {},
   "outputs": [],
   "source": [
    "assert is_pair('[', ']') == True\n",
    "assert par_checker('([])') == True\n",
    "assert par_checker('([)]') == False"
   ]
  },
  {
   "cell_type": "code",
   "execution_count": 5,
   "id": "8e7fdf6f-cdc5-4178-8862-2a0dde9051c2",
   "metadata": {},
   "outputs": [],
   "source": [
    "def base_converter(number: int, base: int) -> str:\n",
    "    digits = '0123456789ABCDEF'\n",
    "    s = Stack()\n",
    "    \n",
    "    while number > 0:\n",
    "        remainder = number % base\n",
    "        s.push(remainder)\n",
    "        number = number // base\n",
    "    res = ''\n",
    "    while not s.is_empty():\n",
    "        res += digits[s.pop()]\n",
    "    return res"
   ]
  },
  {
   "cell_type": "code",
   "execution_count": 6,
   "id": "d63aad4b-6507-4980-ad06-f48d193263f3",
   "metadata": {},
   "outputs": [],
   "source": [
    "assert base_converter(10, 2) == '1010'\n",
    "assert base_converter(10, 16) == 'A'"
   ]
  },
  {
   "cell_type": "code",
   "execution_count": 12,
   "id": "9579ae50-8949-40e9-b04f-bdef12196102",
   "metadata": {},
   "outputs": [],
   "source": [
    "class Queue:\n",
    "    def __init__(self):\n",
    "        self.items = []\n",
    "        \n",
    "    def is_empty(self):\n",
    "        return len(self.items) == 0\n",
    "    \n",
    "    def size(self):\n",
    "        return len(self.items)\n",
    "    \n",
    "    def enqueue(self, item):\n",
    "        self.items.insert(0, item)\n",
    "        \n",
    "    def dequeue(self):\n",
    "        return self.items.pop()"
   ]
  },
  {
   "cell_type": "code",
   "execution_count": 14,
   "id": "5a4b4445-df8e-4873-b12a-4c1e61a2d259",
   "metadata": {},
   "outputs": [],
   "source": [
    "def hot_potato(namelist: list, num: int) -> str:\n",
    "    q = Queue()\n",
    "    for name in namelist:\n",
    "        q.enqueue(name)\n",
    "        \n",
    "    while q.size() > 1:\n",
    "        for i in range(num):\n",
    "            q.enqueue(q.dequeue())\n",
    "        q.dequeue()\n",
    "    return q.dequeue()"
   ]
  },
  {
   "cell_type": "code",
   "execution_count": 16,
   "id": "58ea6c6e-61c1-4224-8d6d-35990c6b273b",
   "metadata": {},
   "outputs": [],
   "source": [
    "assert hot_potato([\"Bill\",\"David\",\"Susan\",\"Jane\",\"Kent\",\"Brad\"],7) == 'Susan'"
   ]
  },
  {
   "cell_type": "code",
   "execution_count": 17,
   "id": "159e39dd-b0e4-4627-abfe-66a54b800df9",
   "metadata": {},
   "outputs": [],
   "source": [
    "class Deque:\n",
    "    def __init__(self):\n",
    "        self.items = []\n",
    "        \n",
    "    def is_empty(self):\n",
    "        return self.items == []\n",
    "    \n",
    "    def size(self):\n",
    "        return len(self.items)\n",
    "    \n",
    "    def add_front(self, item):\n",
    "        self.items.append(item)\n",
    "        \n",
    "    def add_rear(self, item):\n",
    "        self.items.insert(0, item)\n",
    "        \n",
    "    def remove_front(self):\n",
    "        return self.items.pop()\n",
    "    \n",
    "    def remove_rear(self):\n",
    "        return self.items.pop(0)"
   ]
  },
  {
   "cell_type": "code",
   "execution_count": 20,
   "id": "03a4845b-bc74-4b8c-8877-8c373df9ab04",
   "metadata": {},
   "outputs": [],
   "source": [
    "def pal_checker(string):\n",
    "    d = Deque()\n",
    "    for ch in string:\n",
    "        d.add_rear(ch)\n",
    "        \n",
    "    equal = True\n",
    "    while d.size() > 1 and equal:\n",
    "        equal = True if d.remove_front() == d.remove_rear() else False\n",
    "    return equal\n",
    "\n",
    "assert pal_checker('toot') == True\n",
    "assert pal_checker('foo') == False"
   ]
  },
  {
   "cell_type": "code",
   "execution_count": 23,
   "id": "34a07d43-57f3-4407-8ec9-62f0a7e385c5",
   "metadata": {},
   "outputs": [],
   "source": [
    "class Node:\n",
    "    def __init__(self, initdata):\n",
    "        self.data = initdata\n",
    "        self.next = None\n",
    "        \n",
    "    def get_data(self):\n",
    "        return self.data\n",
    "    \n",
    "    def get_next(self):\n",
    "        return self.next\n",
    "    \n",
    "    def set_data(self, newdata):\n",
    "        self.data = newdata\n",
    "        \n",
    "    def set_next(self, newnext):\n",
    "        self.next = newnext"
   ]
  },
  {
   "cell_type": "code",
   "execution_count": 73,
   "id": "d322a321-a6c7-4d06-bbfa-646a2f20d5b0",
   "metadata": {},
   "outputs": [],
   "source": [
    "class UnorderedList:\n",
    "    def __init__(self):\n",
    "        self.head = None\n",
    "        \n",
    "    def is_empty(self):\n",
    "        return self.head == None\n",
    "    \n",
    "    def add(self, item):\n",
    "        temp = Node(item)\n",
    "        temp.set_next(self.head)\n",
    "        self.head = temp\n",
    "        \n",
    "    def size(self):\n",
    "        current = self.head\n",
    "        count = 0\n",
    "        while current != None:\n",
    "            count += 1\n",
    "            current = current.get_next()\n",
    "        return count\n",
    "    \n",
    "    def search(self, item):\n",
    "        current = self.head\n",
    "        found = False\n",
    "        while current != None and not found:\n",
    "            if current.get_data() == item:\n",
    "                found = True\n",
    "            else:\n",
    "                current = current.get_next()\n",
    "        return found\n",
    "    \n",
    "    def remove(self, item):\n",
    "        current = self.head\n",
    "        previous = None\n",
    "        found = False\n",
    "        while not found:\n",
    "            if current.get_data() == item:\n",
    "                found = True\n",
    "            else:\n",
    "                previous = current\n",
    "                current = current.get_next()\n",
    "        if previous == None:\n",
    "            self.head = current.get_next()\n",
    "        else:\n",
    "            previous.set_next(current.get_next())\n",
    "            \n",
    "    def pop(self):\n",
    "        current = self.head\n",
    "        prev = None\n",
    "        while not current.get_next() is None:\n",
    "            prev = current\n",
    "            current = current.get_next()\n",
    "        if prev is None:\n",
    "            self.head = None\n",
    "        else:\n",
    "            prev.set_next(None)\n",
    "        return current.get_data()"
   ]
  },
  {
   "cell_type": "code",
   "execution_count": 74,
   "id": "b5bc3181-364a-4808-a1ed-e81ee4263a8a",
   "metadata": {},
   "outputs": [
    {
     "name": "stdout",
     "output_type": "stream",
     "text": [
      "1\n",
      "1\n",
      "0\n"
     ]
    }
   ],
   "source": [
    "l = UnorderedList()\n",
    "\n",
    "l.add(1)\n",
    "# l.add(2)\n",
    "# l.add(3)\n",
    "# l.add(4)\n",
    "\n",
    "print(l.size())\n",
    "print(l.pop())\n",
    "print(l.size())"
   ]
  },
  {
   "cell_type": "code",
   "execution_count": 77,
   "id": "d1eae443-9ffe-4b8d-bbf8-48ead9e22aa4",
   "metadata": {},
   "outputs": [],
   "source": [
    "class OrderedList(UnorderedList):\n",
    "    def search(self, item):\n",
    "        current = self.head\n",
    "        found = False\n",
    "        stop = False\n",
    "        while current != None and not found and not stop:\n",
    "            if current.get_data() == item:\n",
    "                found = True\n",
    "            else:\n",
    "                if current.get_data() > item:\n",
    "                    stop = True\n",
    "                else:\n",
    "                    current = current.get_next()\n",
    "        return found\n",
    "    \n",
    "    def add(self, item):\n",
    "        current = self.head\n",
    "        prev = None\n",
    "        stop = False\n",
    "        while not current is None and not stop:\n",
    "            if current.get_data() > item:\n",
    "                stop = True\n",
    "            else:\n",
    "                prev = current\n",
    "                current = current.get_next()\n",
    "        temp = Node(item)\n",
    "        if prev == None:\n",
    "            temp.set_next(self.head)\n",
    "            self.head = temp\n",
    "        else:\n",
    "            temp.set_next(current)\n",
    "            prev.set_next(temp)"
   ]
  },
  {
   "cell_type": "code",
   "execution_count": 81,
   "id": "5b2278cd-97c9-4c23-b742-dffc7758c1fb",
   "metadata": {},
   "outputs": [
    {
     "name": "stdout",
     "output_type": "stream",
     "text": [
      "3\n",
      "3\n",
      "2\n",
      "1\n"
     ]
    }
   ],
   "source": [
    "mylist = OrderedList()\n",
    "\n",
    "mylist.add(1)\n",
    "mylist.add(3)\n",
    "mylist.add(2)\n",
    "\n",
    "print(mylist.size())\n",
    "print(mylist.pop())\n",
    "print(mylist.pop())\n",
    "print(mylist.pop())"
   ]
  }
 ],
 "metadata": {
  "kernelspec": {
   "display_name": "Python 3 (ipykernel)",
   "language": "python",
   "name": "python3"
  },
  "language_info": {
   "codemirror_mode": {
    "name": "ipython",
    "version": 3
   },
   "file_extension": ".py",
   "mimetype": "text/x-python",
   "name": "python",
   "nbconvert_exporter": "python",
   "pygments_lexer": "ipython3",
   "version": "3.10.3"
  }
 },
 "nbformat": 4,
 "nbformat_minor": 5
}
