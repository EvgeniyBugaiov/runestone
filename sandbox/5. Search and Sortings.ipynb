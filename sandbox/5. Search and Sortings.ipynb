{
 "cells": [
  {
   "cell_type": "code",
   "execution_count": 2,
   "id": "79feddba-84d4-41b7-8cc7-2f982bee6808",
   "metadata": {},
   "outputs": [],
   "source": [
    "def sequential_search(arr: list, el: int) -> bool:\n",
    "    '''последовательный поиск'''\n",
    "    for i in arr:\n",
    "        if i == el:\n",
    "            return True\n",
    "    return False\n",
    "\n",
    "assert sequential_search([3, 4, 2, 5], 2) == True\n",
    "assert sequential_search([3, 4, 2, 5], 1) == False"
   ]
  },
  {
   "cell_type": "code",
   "execution_count": null,
   "id": "027ff405-8ead-4c60-a74c-e74042a7757e",
   "metadata": {},
   "outputs": [],
   "source": [
    "def sequential_search_order(arr: list, el: int) -> bool:\n",
    "    for i in arr:\n",
    "        if i == el:\n",
    "            return True\n",
    "        elif i > el:\n",
    "            break\n",
    "    return False"
   ]
  },
  {
   "cell_type": "code",
   "execution_count": 1,
   "id": "6ae2f61a-f6ab-47a2-926d-5bf949e766af",
   "metadata": {},
   "outputs": [],
   "source": [
    "def bubble_sort(arr: list) -> list:\n",
    "    for i in range(len(arr)-1, 0, -1):\n",
    "        for j in range(i):\n",
    "            if arr[j] > arr[j+1]:\n",
    "                arr[j+1], arr[j] = arr[j], arr[j+1]\n",
    "    return arr\n",
    "\n",
    "assert bubble_sort([4, 32, 6]) == [4, 6, 32]"
   ]
  },
  {
   "cell_type": "code",
   "execution_count": 2,
   "id": "0518a9fe-9592-468f-9095-9043d18089be",
   "metadata": {},
   "outputs": [],
   "source": [
    "def selection_sort(arr: list) -> list:\n",
    "    for i in range(len(arr)-1, 0, -1):\n",
    "        maxidx = 0\n",
    "        for j in range(1, i+1):\n",
    "            if arr[maxidx] < arr[j]:\n",
    "                maxidx = j\n",
    "        arr[i], arr[maxidx] = arr[maxidx], arr[i]\n",
    "    return arr\n",
    "\n",
    "assert selection_sort([4, 32, 6]) == [4, 6, 32]"
   ]
  },
  {
   "cell_type": "code",
   "execution_count": 4,
   "id": "b63c11ba-2eb4-4b56-b972-b7eeab6a6b06",
   "metadata": {},
   "outputs": [],
   "source": [
    "def insertion_sort(arr: list) -> list:\n",
    "    for i in range(1, len(arr)):\n",
    "        current = arr[i]\n",
    "        position = i\n",
    "        while position > 0 and arr[position-1] > current:\n",
    "            arr[position] = arr[position-1]\n",
    "            position -= 1\n",
    "        arr[position] = current\n",
    "    return arr\n",
    "        \n",
    "assert insertion_sort([4, 32, 6]) == [4, 6, 32]"
   ]
  },
  {
   "cell_type": "code",
   "execution_count": null,
   "id": "a7e4ddc1-4c5d-4e99-a58d-4d59aff153bd",
   "metadata": {},
   "outputs": [],
   "source": []
  }
 ],
 "metadata": {
  "kernelspec": {
   "display_name": "Python 3 (ipykernel)",
   "language": "python",
   "name": "python3"
  },
  "language_info": {
   "codemirror_mode": {
    "name": "ipython",
    "version": 3
   },
   "file_extension": ".py",
   "mimetype": "text/x-python",
   "name": "python",
   "nbconvert_exporter": "python",
   "pygments_lexer": "ipython3",
   "version": "3.9.13"
  }
 },
 "nbformat": 4,
 "nbformat_minor": 5
}
