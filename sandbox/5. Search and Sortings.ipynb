{
 "cells": [
  {
   "cell_type": "code",
   "execution_count": 2,
   "id": "79feddba-84d4-41b7-8cc7-2f982bee6808",
   "metadata": {},
   "outputs": [],
   "source": [
    "def sequential_search(arr: list, el: int) -> bool:\n",
    "    '''последовательный поиск'''\n",
    "    for i in arr:\n",
    "        if i == el:\n",
    "            return True\n",
    "    return False\n",
    "\n",
    "assert sequential_search([3, 4, 2, 5], 2) == True\n",
    "assert sequential_search([3, 4, 2, 5], 1) == False"
   ]
  },
  {
   "cell_type": "code",
   "execution_count": null,
   "id": "027ff405-8ead-4c60-a74c-e74042a7757e",
   "metadata": {},
   "outputs": [],
   "source": [
    "def sequential_search_order(arr: list, el: int) -> bool:\n",
    "    for i in arr:\n",
    "        if i == el:\n",
    "            return True\n",
    "        elif i > el:\n",
    "            break\n",
    "    return False"
   ]
  }
 ],
 "metadata": {
  "kernelspec": {
   "display_name": "Python 3 (ipykernel)",
   "language": "python",
   "name": "python3"
  },
  "language_info": {
   "codemirror_mode": {
    "name": "ipython",
    "version": 3
   },
   "file_extension": ".py",
   "mimetype": "text/x-python",
   "name": "python",
   "nbconvert_exporter": "python",
   "pygments_lexer": "ipython3",
   "version": "3.10.3"
  }
 },
 "nbformat": 4,
 "nbformat_minor": 5
}
